{
 "cells": [
  {
   "cell_type": "markdown",
   "metadata": {},
   "source": [
    "# Unit 5 - Financial Planning"
   ]
  },
  {
   "cell_type": "markdown",
   "metadata": {},
   "source": [
    "## Part 1 - Personal Finance Planner"
   ]
  },
  {
   "cell_type": "code",
   "execution_count": 1,
   "metadata": {
    "tags": []
   },
   "outputs": [],
   "source": [
    "# Initial imports\n",
    "import os\n",
    "import requests\n",
    "import pandas as pd\n",
    "from dotenv import load_dotenv\n",
    "import alpaca_trade_api as tradeapi\n",
    "from MCForecastTools import MCSimulation\n",
    "\n",
    "import warnings\n",
    "warnings.filterwarnings('ignore')\n",
    "%matplotlib inline"
   ]
  },
  {
   "cell_type": "code",
   "execution_count": 2,
   "metadata": {
    "tags": []
   },
   "outputs": [
    {
     "data": {
      "text/plain": [
       "True"
      ]
     },
     "execution_count": 2,
     "metadata": {},
     "output_type": "execute_result"
    }
   ],
   "source": [
    "# Load .env enviroment variables\n",
    "load_dotenv()"
   ]
  },
  {
   "cell_type": "markdown",
   "metadata": {},
   "source": [
    "### Collect Crypto Prices Using the `requests` Library"
   ]
  },
  {
   "cell_type": "code",
   "execution_count": 3,
   "metadata": {
    "tags": []
   },
   "outputs": [],
   "source": [
    "# Set current amount of crypto assets\n",
    "my_btc = 1.2\n",
    "my_eth = 5.3"
   ]
  },
  {
   "cell_type": "code",
   "execution_count": 4,
   "metadata": {
    "tags": []
   },
   "outputs": [],
   "source": [
    "# Crypto API URLs\n",
    "btc_url = \"https://api.alternative.me/v2/ticker/Bitcoin/?convert=USD\"\n",
    "eth_url = \"https://api.alternative.me/v2/ticker/Ethereum/?convert=USD\""
   ]
  },
  {
   "cell_type": "code",
   "execution_count": 5,
   "metadata": {
    "tags": []
   },
   "outputs": [
    {
     "name": "stdout",
     "output_type": "stream",
     "text": [
      "The current value of your 1.2 BTC is $44840.40\n",
      "The current value of your 5.3 ETH is $10673.78\n"
     ]
    }
   ],
   "source": [
    "# Fetch current BTC price\n",
    "btc_data = requests.get(btc_url).json()\n",
    "btc_price = btc_data['data']['1']['quotes']['USD']['price']\n",
    "\n",
    "# Fetch current ETH price\n",
    "eth_data = requests.get(eth_url).json()\n",
    "eth_price = eth_data['data']['1027']['quotes']['USD']['price']\n",
    "\n",
    "# Compute current value of my crpto\n",
    "my_btc_value = my_btc * btc_price\n",
    "my_eth_value = my_eth * eth_price\n",
    "\n",
    "# Print current crypto wallet balance\n",
    "print(f\"The current value of your {my_btc} BTC is ${my_btc_value:0.2f}\")\n",
    "print(f\"The current value of your {my_eth} ETH is ${my_eth_value:0.2f}\")"
   ]
  },
  {
   "cell_type": "markdown",
   "metadata": {},
   "source": [
    "### Collect Investments Data Using Alpaca: `SPY` (stocks) and `AGG` (bonds)"
   ]
  },
  {
   "cell_type": "code",
   "execution_count": 6,
   "metadata": {
    "tags": []
   },
   "outputs": [],
   "source": [
    "# Set current amount of shares\n",
    "my_agg = 200\n",
    "my_spy = 50"
   ]
  },
  {
   "cell_type": "code",
   "execution_count": 7,
   "metadata": {
    "tags": []
   },
   "outputs": [],
   "source": [
    "# Set Alpaca API key and secret\n",
    "alpaca_api_key = os.getenv(\"ALPACA_API_KEY\")\n",
    "alpaca_secret_key = os.getenv(\"ALPACA_SECRET_KEY\")\n",
    "\n",
    "# Create the Alpaca API object\n",
    "alpaca = tradeapi.REST(\n",
    "    alpaca_api_key,\n",
    "    alpaca_secret_key,\n",
    "    api_version=\"v2\")"
   ]
  },
  {
   "cell_type": "code",
   "execution_count": 8,
   "metadata": {
    "tags": []
   },
   "outputs": [
    {
     "data": {
      "text/html": [
       "<div>\n",
       "<style scoped>\n",
       "    .dataframe tbody tr th:only-of-type {\n",
       "        vertical-align: middle;\n",
       "    }\n",
       "\n",
       "    .dataframe tbody tr th {\n",
       "        vertical-align: top;\n",
       "    }\n",
       "\n",
       "    .dataframe thead tr th {\n",
       "        text-align: left;\n",
       "    }\n",
       "\n",
       "    .dataframe thead tr:last-of-type th {\n",
       "        text-align: right;\n",
       "    }\n",
       "</style>\n",
       "<table border=\"1\" class=\"dataframe\">\n",
       "  <thead>\n",
       "    <tr>\n",
       "      <th></th>\n",
       "      <th colspan=\"7\" halign=\"left\">AGG</th>\n",
       "      <th colspan=\"7\" halign=\"left\">SPY</th>\n",
       "    </tr>\n",
       "    <tr>\n",
       "      <th></th>\n",
       "      <th>close</th>\n",
       "      <th>high</th>\n",
       "      <th>low</th>\n",
       "      <th>trade_count</th>\n",
       "      <th>open</th>\n",
       "      <th>volume</th>\n",
       "      <th>vwap</th>\n",
       "      <th>close</th>\n",
       "      <th>high</th>\n",
       "      <th>low</th>\n",
       "      <th>trade_count</th>\n",
       "      <th>open</th>\n",
       "      <th>volume</th>\n",
       "      <th>vwap</th>\n",
       "    </tr>\n",
       "    <tr>\n",
       "      <th>timestamp</th>\n",
       "      <th></th>\n",
       "      <th></th>\n",
       "      <th></th>\n",
       "      <th></th>\n",
       "      <th></th>\n",
       "      <th></th>\n",
       "      <th></th>\n",
       "      <th></th>\n",
       "      <th></th>\n",
       "      <th></th>\n",
       "      <th></th>\n",
       "      <th></th>\n",
       "      <th></th>\n",
       "      <th></th>\n",
       "    </tr>\n",
       "  </thead>\n",
       "  <tbody>\n",
       "    <tr>\n",
       "      <th>2022-11-21 05:00:00+00:00</th>\n",
       "      <td>96.94</td>\n",
       "      <td>97.3355</td>\n",
       "      <td>96.910</td>\n",
       "      <td>22685</td>\n",
       "      <td>97.27</td>\n",
       "      <td>6829111</td>\n",
       "      <td>97.034762</td>\n",
       "      <td>394.59</td>\n",
       "      <td>395.82</td>\n",
       "      <td>392.6600</td>\n",
       "      <td>401650</td>\n",
       "      <td>394.64</td>\n",
       "      <td>51243189</td>\n",
       "      <td>394.533242</td>\n",
       "    </tr>\n",
       "    <tr>\n",
       "      <th>2022-11-22 05:00:00+00:00</th>\n",
       "      <td>97.44</td>\n",
       "      <td>97.5000</td>\n",
       "      <td>97.180</td>\n",
       "      <td>26245</td>\n",
       "      <td>97.18</td>\n",
       "      <td>8039011</td>\n",
       "      <td>97.392306</td>\n",
       "      <td>399.90</td>\n",
       "      <td>400.07</td>\n",
       "      <td>395.1527</td>\n",
       "      <td>416891</td>\n",
       "      <td>396.63</td>\n",
       "      <td>60429025</td>\n",
       "      <td>398.237458</td>\n",
       "    </tr>\n",
       "    <tr>\n",
       "      <th>2022-11-23 05:00:00+00:00</th>\n",
       "      <td>98.02</td>\n",
       "      <td>98.0200</td>\n",
       "      <td>97.580</td>\n",
       "      <td>27491</td>\n",
       "      <td>97.58</td>\n",
       "      <td>5885623</td>\n",
       "      <td>97.849754</td>\n",
       "      <td>402.42</td>\n",
       "      <td>402.93</td>\n",
       "      <td>399.3100</td>\n",
       "      <td>476626</td>\n",
       "      <td>399.55</td>\n",
       "      <td>68261628</td>\n",
       "      <td>401.583806</td>\n",
       "    </tr>\n",
       "    <tr>\n",
       "      <th>2022-11-25 05:00:00+00:00</th>\n",
       "      <td>98.04</td>\n",
       "      <td>98.0400</td>\n",
       "      <td>97.810</td>\n",
       "      <td>11068</td>\n",
       "      <td>97.81</td>\n",
       "      <td>2718602</td>\n",
       "      <td>97.944018</td>\n",
       "      <td>402.33</td>\n",
       "      <td>402.91</td>\n",
       "      <td>401.5350</td>\n",
       "      <td>184647</td>\n",
       "      <td>401.83</td>\n",
       "      <td>30545434</td>\n",
       "      <td>402.272977</td>\n",
       "    </tr>\n",
       "    <tr>\n",
       "      <th>2022-11-28 05:00:00+00:00</th>\n",
       "      <td>97.88</td>\n",
       "      <td>98.1900</td>\n",
       "      <td>97.835</td>\n",
       "      <td>33274</td>\n",
       "      <td>98.14</td>\n",
       "      <td>7920752</td>\n",
       "      <td>97.951584</td>\n",
       "      <td>395.91</td>\n",
       "      <td>400.81</td>\n",
       "      <td>395.1100</td>\n",
       "      <td>441562</td>\n",
       "      <td>399.09</td>\n",
       "      <td>68021749</td>\n",
       "      <td>397.879662</td>\n",
       "    </tr>\n",
       "    <tr>\n",
       "      <th>...</th>\n",
       "      <td>...</td>\n",
       "      <td>...</td>\n",
       "      <td>...</td>\n",
       "      <td>...</td>\n",
       "      <td>...</td>\n",
       "      <td>...</td>\n",
       "      <td>...</td>\n",
       "      <td>...</td>\n",
       "      <td>...</td>\n",
       "      <td>...</td>\n",
       "      <td>...</td>\n",
       "      <td>...</td>\n",
       "      <td>...</td>\n",
       "      <td>...</td>\n",
       "    </tr>\n",
       "    <tr>\n",
       "      <th>2023-11-13 05:00:00+00:00</th>\n",
       "      <td>93.95</td>\n",
       "      <td>93.9700</td>\n",
       "      <td>93.530</td>\n",
       "      <td>34348</td>\n",
       "      <td>93.64</td>\n",
       "      <td>9679644</td>\n",
       "      <td>93.790288</td>\n",
       "      <td>440.19</td>\n",
       "      <td>441.33</td>\n",
       "      <td>438.4200</td>\n",
       "      <td>406682</td>\n",
       "      <td>439.23</td>\n",
       "      <td>52236070</td>\n",
       "      <td>440.094647</td>\n",
       "    </tr>\n",
       "    <tr>\n",
       "      <th>2023-11-14 05:00:00+00:00</th>\n",
       "      <td>95.13</td>\n",
       "      <td>95.2000</td>\n",
       "      <td>94.930</td>\n",
       "      <td>33879</td>\n",
       "      <td>95.03</td>\n",
       "      <td>12149610</td>\n",
       "      <td>95.054442</td>\n",
       "      <td>448.73</td>\n",
       "      <td>450.06</td>\n",
       "      <td>446.0900</td>\n",
       "      <td>653304</td>\n",
       "      <td>446.32</td>\n",
       "      <td>97176937</td>\n",
       "      <td>447.870072</td>\n",
       "    </tr>\n",
       "    <tr>\n",
       "      <th>2023-11-15 05:00:00+00:00</th>\n",
       "      <td>94.54</td>\n",
       "      <td>94.7150</td>\n",
       "      <td>94.455</td>\n",
       "      <td>37883</td>\n",
       "      <td>94.70</td>\n",
       "      <td>10956776</td>\n",
       "      <td>94.565861</td>\n",
       "      <td>449.68</td>\n",
       "      <td>451.38</td>\n",
       "      <td>448.8000</td>\n",
       "      <td>555373</td>\n",
       "      <td>450.11</td>\n",
       "      <td>77327573</td>\n",
       "      <td>450.019504</td>\n",
       "    </tr>\n",
       "    <tr>\n",
       "      <th>2023-11-16 05:00:00+00:00</th>\n",
       "      <td>95.06</td>\n",
       "      <td>95.1979</td>\n",
       "      <td>94.850</td>\n",
       "      <td>29419</td>\n",
       "      <td>94.85</td>\n",
       "      <td>10145390</td>\n",
       "      <td>95.078054</td>\n",
       "      <td>450.23</td>\n",
       "      <td>450.56</td>\n",
       "      <td>448.1200</td>\n",
       "      <td>507746</td>\n",
       "      <td>449.22</td>\n",
       "      <td>66665799</td>\n",
       "      <td>449.474655</td>\n",
       "    </tr>\n",
       "    <tr>\n",
       "      <th>2023-11-17 05:00:00+00:00</th>\n",
       "      <td>95.25</td>\n",
       "      <td>95.3600</td>\n",
       "      <td>95.025</td>\n",
       "      <td>27266</td>\n",
       "      <td>95.21</td>\n",
       "      <td>9244030</td>\n",
       "      <td>95.213371</td>\n",
       "      <td>450.79</td>\n",
       "      <td>451.42</td>\n",
       "      <td>449.2900</td>\n",
       "      <td>439332</td>\n",
       "      <td>450.24</td>\n",
       "      <td>83183079</td>\n",
       "      <td>450.530471</td>\n",
       "    </tr>\n",
       "  </tbody>\n",
       "</table>\n",
       "<p>250 rows × 14 columns</p>\n",
       "</div>"
      ],
      "text/plain": [
       "                             AGG                                      \\\n",
       "                           close     high     low trade_count   open   \n",
       "timestamp                                                              \n",
       "2022-11-21 05:00:00+00:00  96.94  97.3355  96.910       22685  97.27   \n",
       "2022-11-22 05:00:00+00:00  97.44  97.5000  97.180       26245  97.18   \n",
       "2022-11-23 05:00:00+00:00  98.02  98.0200  97.580       27491  97.58   \n",
       "2022-11-25 05:00:00+00:00  98.04  98.0400  97.810       11068  97.81   \n",
       "2022-11-28 05:00:00+00:00  97.88  98.1900  97.835       33274  98.14   \n",
       "...                          ...      ...     ...         ...    ...   \n",
       "2023-11-13 05:00:00+00:00  93.95  93.9700  93.530       34348  93.64   \n",
       "2023-11-14 05:00:00+00:00  95.13  95.2000  94.930       33879  95.03   \n",
       "2023-11-15 05:00:00+00:00  94.54  94.7150  94.455       37883  94.70   \n",
       "2023-11-16 05:00:00+00:00  95.06  95.1979  94.850       29419  94.85   \n",
       "2023-11-17 05:00:00+00:00  95.25  95.3600  95.025       27266  95.21   \n",
       "\n",
       "                                                   SPY                    \\\n",
       "                             volume       vwap   close    high       low   \n",
       "timestamp                                                                  \n",
       "2022-11-21 05:00:00+00:00   6829111  97.034762  394.59  395.82  392.6600   \n",
       "2022-11-22 05:00:00+00:00   8039011  97.392306  399.90  400.07  395.1527   \n",
       "2022-11-23 05:00:00+00:00   5885623  97.849754  402.42  402.93  399.3100   \n",
       "2022-11-25 05:00:00+00:00   2718602  97.944018  402.33  402.91  401.5350   \n",
       "2022-11-28 05:00:00+00:00   7920752  97.951584  395.91  400.81  395.1100   \n",
       "...                             ...        ...     ...     ...       ...   \n",
       "2023-11-13 05:00:00+00:00   9679644  93.790288  440.19  441.33  438.4200   \n",
       "2023-11-14 05:00:00+00:00  12149610  95.054442  448.73  450.06  446.0900   \n",
       "2023-11-15 05:00:00+00:00  10956776  94.565861  449.68  451.38  448.8000   \n",
       "2023-11-16 05:00:00+00:00  10145390  95.078054  450.23  450.56  448.1200   \n",
       "2023-11-17 05:00:00+00:00   9244030  95.213371  450.79  451.42  449.2900   \n",
       "\n",
       "                                                                     \n",
       "                          trade_count    open    volume        vwap  \n",
       "timestamp                                                            \n",
       "2022-11-21 05:00:00+00:00      401650  394.64  51243189  394.533242  \n",
       "2022-11-22 05:00:00+00:00      416891  396.63  60429025  398.237458  \n",
       "2022-11-23 05:00:00+00:00      476626  399.55  68261628  401.583806  \n",
       "2022-11-25 05:00:00+00:00      184647  401.83  30545434  402.272977  \n",
       "2022-11-28 05:00:00+00:00      441562  399.09  68021749  397.879662  \n",
       "...                               ...     ...       ...         ...  \n",
       "2023-11-13 05:00:00+00:00      406682  439.23  52236070  440.094647  \n",
       "2023-11-14 05:00:00+00:00      653304  446.32  97176937  447.870072  \n",
       "2023-11-15 05:00:00+00:00      555373  450.11  77327573  450.019504  \n",
       "2023-11-16 05:00:00+00:00      507746  449.22  66665799  449.474655  \n",
       "2023-11-17 05:00:00+00:00      439332  450.24  83183079  450.530471  \n",
       "\n",
       "[250 rows x 14 columns]"
      ]
     },
     "execution_count": 8,
     "metadata": {},
     "output_type": "execute_result"
    }
   ],
   "source": [
    "# Format current date as ISO format\n",
    "start = pd.Timestamp(\"2022-11-18\", tz=\"America/Chicago\").isoformat()\n",
    "end = pd.Timestamp(\"2023-11-18\", tz=\"America/Chicago\").isoformat()\n",
    "\n",
    "# Set the tickers\n",
    "tickers = [\"AGG\", \"SPY\"]\n",
    "\n",
    "# Set timeframe to \"1Day\" for Alpaca API\n",
    "timeframe = \"1Day\"\n",
    "\n",
    "# Get current closing prices for SPY and AGG\n",
    "df_portfolio = alpaca.get_bars(\n",
    "    tickers,\n",
    "    timeframe,\n",
    "    start = start,\n",
    "    end = end\n",
    ").df\n",
    "\n",
    "# Reorganize the DataFrame\n",
    "# Separate ticker data\n",
    "AGG = df_portfolio[df_portfolio['symbol']=='AGG'].drop('symbol', axis=1)\n",
    "SPY = df_portfolio[df_portfolio['symbol']=='SPY'].drop('symbol', axis=1)\n",
    "\n",
    "\n",
    "# Concatenate the ticker DataFrames\n",
    "df_portfolio = pd.concat([AGG, SPY],axis=1, keys=['AGG','SPY'])\n",
    "\n",
    "# Preview DataFrame\n",
    "df_portfolio"
   ]
  },
  {
   "cell_type": "code",
   "execution_count": 9,
   "metadata": {
    "tags": []
   },
   "outputs": [
    {
     "name": "stdout",
     "output_type": "stream",
     "text": [
      "Current AGG closing price: $96.94\n",
      "Current SPY closing price: $394.59\n"
     ]
    }
   ],
   "source": [
    "# Pick AGG and SPY close prices\n",
    "agg_close_price = df_portfolio[\"AGG\"][\"close\"][0]\n",
    "spy_close_price = df_portfolio[\"SPY\"][\"close\"][0]\n",
    "\n",
    "# Print AGG and SPY close prices\n",
    "print(f\"Current AGG closing price: ${agg_close_price}\")\n",
    "print(f\"Current SPY closing price: ${spy_close_price}\")"
   ]
  },
  {
   "cell_type": "code",
   "execution_count": 10,
   "metadata": {
    "tags": []
   },
   "outputs": [
    {
     "name": "stdout",
     "output_type": "stream",
     "text": [
      "The current value of your 50 SPY shares is $19729.50\n",
      "The current value of your 200 AGG shares is $19388.00\n"
     ]
    }
   ],
   "source": [
    "# Compute the current value of shares\n",
    "my_agg_value = agg_close_price * my_agg\n",
    "my_spy_value = spy_close_price * my_spy\n",
    "\n",
    "# Print current value of shares\n",
    "print(f\"The current value of your {my_spy} SPY shares is ${my_spy_value:0.2f}\")\n",
    "print(f\"The current value of your {my_agg} AGG shares is ${my_agg_value:0.2f}\")"
   ]
  },
  {
   "cell_type": "markdown",
   "metadata": {},
   "source": [
    "### Savings Health Analysis"
   ]
  },
  {
   "cell_type": "code",
   "execution_count": 11,
   "metadata": {
    "tags": []
   },
   "outputs": [
    {
     "data": {
      "text/html": [
       "<div>\n",
       "<style scoped>\n",
       "    .dataframe tbody tr th:only-of-type {\n",
       "        vertical-align: middle;\n",
       "    }\n",
       "\n",
       "    .dataframe tbody tr th {\n",
       "        vertical-align: top;\n",
       "    }\n",
       "\n",
       "    .dataframe thead th {\n",
       "        text-align: right;\n",
       "    }\n",
       "</style>\n",
       "<table border=\"1\" class=\"dataframe\">\n",
       "  <thead>\n",
       "    <tr style=\"text-align: right;\">\n",
       "      <th></th>\n",
       "      <th>amount</th>\n",
       "    </tr>\n",
       "  </thead>\n",
       "  <tbody>\n",
       "    <tr>\n",
       "      <th>crypto</th>\n",
       "      <td>55514.176</td>\n",
       "    </tr>\n",
       "    <tr>\n",
       "      <th>shares</th>\n",
       "      <td>39117.500</td>\n",
       "    </tr>\n",
       "  </tbody>\n",
       "</table>\n",
       "</div>"
      ],
      "text/plain": [
       "           amount\n",
       "crypto  55514.176\n",
       "shares  39117.500"
      ]
     },
     "metadata": {},
     "output_type": "display_data"
    }
   ],
   "source": [
    "# Set monthly household income\n",
    "monthly_income = 12000\n",
    "\n",
    "# Consolidate financial assets data\n",
    "total_crypto_amount = my_btc_value + my_eth_value\n",
    "total_shares_amount = my_spy_value + my_agg_value\n",
    "\n",
    "# Create savings DataFrame(source:https://pandas.pydata.org/docs/reference/api/pandas.DataFrame.html)\n",
    "df_savings = pd.DataFrame({'amount' : [total_crypto_amount, total_shares_amount]}, index = ['crypto', 'shares'])\n",
    "\n",
    "# Display savings DataFrame\n",
    "display(df_savings)"
   ]
  },
  {
   "cell_type": "code",
   "execution_count": 12,
   "metadata": {
    "tags": []
   },
   "outputs": [
    {
     "data": {
      "text/plain": [
       "<Axes: title={'center': 'Composition of Personal Savings'}, ylabel='amount'>"
      ]
     },
     "execution_count": 12,
     "metadata": {},
     "output_type": "execute_result"
    },
    {
     "data": {
      "image/png": "[encoded data removed]",
      "text/plain": [
       "<Figure size 640x480 with 1 Axes>"
      ]
     },
     "metadata": {},
     "output_type": "display_data"
    }
   ],
   "source": [
    "# Plot savings pie chart\n",
    "df_savings.plot.pie(y = 'amount', title = 'Composition of Personal Savings')"
   ]
  },
  {
   "cell_type": "code",
   "execution_count": 13,
   "metadata": {
    "tags": []
   },
   "outputs": [
    {
     "name": "stdout",
     "output_type": "stream",
     "text": [
      "Congratulations for having enough money in this fund!\n"
     ]
    }
   ],
   "source": [
    "# Set ideal emergency fund\n",
    "emergency_fund = monthly_income * 3\n",
    "\n",
    "# Calculate total amount of savings\n",
    "total_savings_amount = total_crypto_amount + total_shares_amount\n",
    "\n",
    "# Validate saving health\n",
    "if total_savings_amount > emergency_fund:\n",
    "    print(f'Congratulations for having enough money in this fund!')\n",
    "elif total_savings_amount == emergency_fund:\n",
    "    print(f'Congratulations on reaching this financial goal!')\n",
    "elif total_savings_amount < emergency_fund:\n",
    "    print(f'You are $(emergency fund - current savings) away from reaching this financial goal')"
   ]
  },
  {
   "cell_type": "code",
   "execution_count": 14,
   "metadata": {},
   "outputs": [],
   "source": [
    "#Use if conditional statements to validate if the current savings are enough for an emergency fund. An ideal emergency fund should be equal to three times your monthly income.\n",
    "\n",
    "#If total savings are greater than the emergency fund, display a message congratulating the person for having enough money in this fund.\n",
    "\n",
    "#If total savings are equal to the emergency fund, display a message congratulating the person on reaching this financial goal.\n",
    "\n",
    "#If total savings are less than the emergency fund, display a message showing how many dollars away the person is from reaching the goal."
   ]
  },
  {
   "cell_type": "markdown",
   "metadata": {},
   "source": [
    "## Part 2 - Retirement Planning\n",
    "\n",
    "### Monte Carlo Simulation"
   ]
  },
  {
   "cell_type": "code",
   "execution_count": 15,
   "metadata": {
    "tags": []
   },
   "outputs": [],
   "source": [
    "# Set start and end dates of five years back from today.\n",
    "# Sample results may vary from the solution based on the time frame chosen\n",
    "start_date = pd.Timestamp('2018-11-18', tz='America/Chicago').isoformat()\n",
    "end_date = pd.Timestamp('2023-11-18', tz='America/Chicago').isoformat()"
   ]
  },
  {
   "cell_type": "code",
   "execution_count": 16,
   "metadata": {
    "tags": []
   },
   "outputs": [
    {
     "data": {
      "text/html": [
       "<div>\n",
       "<style scoped>\n",
       "    .dataframe tbody tr th:only-of-type {\n",
       "        vertical-align: middle;\n",
       "    }\n",
       "\n",
       "    .dataframe tbody tr th {\n",
       "        vertical-align: top;\n",
       "    }\n",
       "\n",
       "    .dataframe thead tr th {\n",
       "        text-align: left;\n",
       "    }\n",
       "\n",
       "    .dataframe thead tr:last-of-type th {\n",
       "        text-align: right;\n",
       "    }\n",
       "</style>\n",
       "<table border=\"1\" class=\"dataframe\">\n",
       "  <thead>\n",
       "    <tr>\n",
       "      <th></th>\n",
       "      <th colspan=\"7\" halign=\"left\">SPY</th>\n",
       "      <th colspan=\"7\" halign=\"left\">AGG</th>\n",
       "    </tr>\n",
       "    <tr>\n",
       "      <th></th>\n",
       "      <th>close</th>\n",
       "      <th>high</th>\n",
       "      <th>low</th>\n",
       "      <th>trade_count</th>\n",
       "      <th>open</th>\n",
       "      <th>volume</th>\n",
       "      <th>vwap</th>\n",
       "      <th>close</th>\n",
       "      <th>high</th>\n",
       "      <th>low</th>\n",
       "      <th>trade_count</th>\n",
       "      <th>open</th>\n",
       "      <th>volume</th>\n",
       "      <th>vwap</th>\n",
       "    </tr>\n",
       "    <tr>\n",
       "      <th>timestamp</th>\n",
       "      <th></th>\n",
       "      <th></th>\n",
       "      <th></th>\n",
       "      <th></th>\n",
       "      <th></th>\n",
       "      <th></th>\n",
       "      <th></th>\n",
       "      <th></th>\n",
       "      <th></th>\n",
       "      <th></th>\n",
       "      <th></th>\n",
       "      <th></th>\n",
       "      <th></th>\n",
       "      <th></th>\n",
       "    </tr>\n",
       "  </thead>\n",
       "  <tbody>\n",
       "    <tr>\n",
       "      <th>2018-11-19 05:00:00+00:00</th>\n",
       "      <td>269.12</td>\n",
       "      <td>273.3800</td>\n",
       "      <td>268.07</td>\n",
       "      <td>492976</td>\n",
       "      <td>273.05</td>\n",
       "      <td>104845636</td>\n",
       "      <td>269.922035</td>\n",
       "      <td>104.65</td>\n",
       "      <td>104.7299</td>\n",
       "      <td>104.61</td>\n",
       "      <td>12499</td>\n",
       "      <td>104.61</td>\n",
       "      <td>5002416</td>\n",
       "      <td>104.669666</td>\n",
       "    </tr>\n",
       "    <tr>\n",
       "      <th>2018-11-20 05:00:00+00:00</th>\n",
       "      <td>264.15</td>\n",
       "      <td>267.0000</td>\n",
       "      <td>263.15</td>\n",
       "      <td>666892</td>\n",
       "      <td>265.36</td>\n",
       "      <td>137953946</td>\n",
       "      <td>265.195482</td>\n",
       "      <td>104.61</td>\n",
       "      <td>104.7200</td>\n",
       "      <td>104.61</td>\n",
       "      <td>12627</td>\n",
       "      <td>104.67</td>\n",
       "      <td>3348454</td>\n",
       "      <td>104.652930</td>\n",
       "    </tr>\n",
       "    <tr>\n",
       "      <th>2018-11-21 05:00:00+00:00</th>\n",
       "      <td>265.03</td>\n",
       "      <td>267.1500</td>\n",
       "      <td>265.01</td>\n",
       "      <td>347443</td>\n",
       "      <td>265.86</td>\n",
       "      <td>77283500</td>\n",
       "      <td>265.829729</td>\n",
       "      <td>104.67</td>\n",
       "      <td>104.6900</td>\n",
       "      <td>104.58</td>\n",
       "      <td>14025</td>\n",
       "      <td>104.60</td>\n",
       "      <td>5886673</td>\n",
       "      <td>104.638034</td>\n",
       "    </tr>\n",
       "    <tr>\n",
       "      <th>2018-11-23 05:00:00+00:00</th>\n",
       "      <td>263.32</td>\n",
       "      <td>264.8234</td>\n",
       "      <td>263.07</td>\n",
       "      <td>190709</td>\n",
       "      <td>263.18</td>\n",
       "      <td>44012132</td>\n",
       "      <td>263.921432</td>\n",
       "      <td>104.65</td>\n",
       "      <td>104.8400</td>\n",
       "      <td>104.65</td>\n",
       "      <td>5751</td>\n",
       "      <td>104.84</td>\n",
       "      <td>1801343</td>\n",
       "      <td>104.713743</td>\n",
       "    </tr>\n",
       "    <tr>\n",
       "      <th>2018-11-26 05:00:00+00:00</th>\n",
       "      <td>267.43</td>\n",
       "      <td>267.7500</td>\n",
       "      <td>265.34</td>\n",
       "      <td>341212</td>\n",
       "      <td>265.78</td>\n",
       "      <td>81413911</td>\n",
       "      <td>266.566378</td>\n",
       "      <td>104.63</td>\n",
       "      <td>104.6700</td>\n",
       "      <td>104.59</td>\n",
       "      <td>11867</td>\n",
       "      <td>104.67</td>\n",
       "      <td>4992135</td>\n",
       "      <td>104.628152</td>\n",
       "    </tr>\n",
       "  </tbody>\n",
       "</table>\n",
       "</div>"
      ],
      "text/plain": [
       "                              SPY                                        \\\n",
       "                            close      high     low trade_count    open   \n",
       "timestamp                                                                 \n",
       "2018-11-19 05:00:00+00:00  269.12  273.3800  268.07      492976  273.05   \n",
       "2018-11-20 05:00:00+00:00  264.15  267.0000  263.15      666892  265.36   \n",
       "2018-11-21 05:00:00+00:00  265.03  267.1500  265.01      347443  265.86   \n",
       "2018-11-23 05:00:00+00:00  263.32  264.8234  263.07      190709  263.18   \n",
       "2018-11-26 05:00:00+00:00  267.43  267.7500  265.34      341212  265.78   \n",
       "\n",
       "                                                     AGG                    \\\n",
       "                              volume        vwap   close      high     low   \n",
       "timestamp                                                                    \n",
       "2018-11-19 05:00:00+00:00  104845636  269.922035  104.65  104.7299  104.61   \n",
       "2018-11-20 05:00:00+00:00  137953946  265.195482  104.61  104.7200  104.61   \n",
       "2018-11-21 05:00:00+00:00   77283500  265.829729  104.67  104.6900  104.58   \n",
       "2018-11-23 05:00:00+00:00   44012132  263.921432  104.65  104.8400  104.65   \n",
       "2018-11-26 05:00:00+00:00   81413911  266.566378  104.63  104.6700  104.59   \n",
       "\n",
       "                                                                    \n",
       "                          trade_count    open   volume        vwap  \n",
       "timestamp                                                           \n",
       "2018-11-19 05:00:00+00:00       12499  104.61  5002416  104.669666  \n",
       "2018-11-20 05:00:00+00:00       12627  104.67  3348454  104.652930  \n",
       "2018-11-21 05:00:00+00:00       14025  104.60  5886673  104.638034  \n",
       "2018-11-23 05:00:00+00:00        5751  104.84  1801343  104.713743  \n",
       "2018-11-26 05:00:00+00:00       11867  104.67  4992135  104.628152  "
      ]
     },
     "execution_count": 16,
     "metadata": {},
     "output_type": "execute_result"
    }
   ],
   "source": [
    "# Get 5 years' worth of historical data for SPY and AGG\n",
    "df_stock_data = alpaca.get_bars(\n",
    "    tickers,\n",
    "    timeframe,\n",
    "    start=start_date,\n",
    "    end=end_date\n",
    ").df\n",
    "\n",
    "# Reorganize the DataFrame\n",
    "# Separate ticker data\n",
    "SPY = df_stock_data[df_stock_data[\"symbol\"]==\"SPY\"].drop(\"symbol\", axis=1)\n",
    "AGG = df_stock_data[df_stock_data[\"symbol\"]==\"AGG\"].drop(\"symbol\", axis=1)\n",
    "\n",
    "\n",
    "# Concatenate the ticker DataFrames\n",
    "df_stock_data = pd.concat([SPY, AGG], axis=1, keys=[\"SPY\",\"AGG\"])\n",
    "\n",
    "# Display sample data\n",
    "df_stock_data.head()"
   ]
  },
  {
   "cell_type": "code",
   "execution_count": 17,
   "metadata": {
    "tags": []
   },
   "outputs": [],
   "source": [
    "# Configuring a Monte Carlo simulation to forecast 30 years cumulative returns\n",
    "MC_stock_data = MCSimulation(\n",
    "    portfolio_data = df_stock_data,\n",
    "    weights = [.60, .40],\n",
    "    num_simulation = 500,\n",
    "    num_trading_days = 252 * 30)\n",
    "    "
   ]
  },
  {
   "cell_type": "code",
   "execution_count": 18,
   "metadata": {
    "tags": []
   },
   "outputs": [],
   "source": [
    "# Printing the simulation input data\n",
    "MC_stock_data = MCSimulation(\n",
    "    portfolio_data = df_stock_data,\n",
    "    weights = [.60, .40],\n",
    "    num_simulation = 500,\n",
    "    num_trading_days = 252 * 30)"
   ]
  },
  {
   "cell_type": "code",
   "execution_count": 19,
   "metadata": {},
   "outputs": [
    {
     "name": "stdout",
     "output_type": "stream",
     "text": [
      "Running Monte Carlo simulation number 0.\n",
      "Running Monte Carlo simulation number 10.\n",
      "Running Monte Carlo simulation number 20.\n",
      "Running Monte Carlo simulation number 30.\n",
      "Running Monte Carlo simulation number 40.\n",
      "Running Monte Carlo simulation number 50.\n",
      "Running Monte Carlo simulation number 60.\n",
      "Running Monte Carlo simulation number 70.\n",
      "Running Monte Carlo simulation number 80.\n",
      "Running Monte Carlo simulation number 90.\n",
      "Running Monte Carlo simulation number 100.\n",
      "Running Monte Carlo simulation number 110.\n",
      "Running Monte Carlo simulation number 120.\n",
      "Running Monte Carlo simulation number 130.\n",
      "Running Monte Carlo simulation number 140.\n",
      "Running Monte Carlo simulation number 150.\n",
      "Running Monte Carlo simulation number 160.\n",
      "Running Monte Carlo simulation number 170.\n",
      "Running Monte Carlo simulation number 180.\n",
      "Running Monte Carlo simulation number 190.\n",
      "Running Monte Carlo simulation number 200.\n",
      "Running Monte Carlo simulation number 210.\n",
      "Running Monte Carlo simulation number 220.\n",
      "Running Monte Carlo simulation number 230.\n",
      "Running Monte Carlo simulation number 240.\n",
      "Running Monte Carlo simulation number 250.\n",
      "Running Monte Carlo simulation number 260.\n",
      "Running Monte Carlo simulation number 270.\n",
      "Running Monte Carlo simulation number 280.\n",
      "Running Monte Carlo simulation number 290.\n",
      "Running Monte Carlo simulation number 300.\n",
      "Running Monte Carlo simulation number 310.\n",
      "Running Monte Carlo simulation number 320.\n",
      "Running Monte Carlo simulation number 330.\n",
      "Running Monte Carlo simulation number 340.\n",
      "Running Monte Carlo simulation number 350.\n",
      "Running Monte Carlo simulation number 360.\n",
      "Running Monte Carlo simulation number 370.\n",
      "Running Monte Carlo simulation number 380.\n",
      "Running Monte Carlo simulation number 390.\n",
      "Running Monte Carlo simulation number 400.\n",
      "Running Monte Carlo simulation number 410.\n",
      "Running Monte Carlo simulation number 420.\n",
      "Running Monte Carlo simulation number 430.\n",
      "Running Monte Carlo simulation number 440.\n",
      "Running Monte Carlo simulation number 450.\n",
      "Running Monte Carlo simulation number 460.\n",
      "Running Monte Carlo simulation number 470.\n",
      "Running Monte Carlo simulation number 480.\n",
      "Running Monte Carlo simulation number 490.\n"
     ]
    },
    {
     "data": {
      "text/html": [
       "<div>\n",
       "<style scoped>\n",
       "    .dataframe tbody tr th:only-of-type {\n",
       "        vertical-align: middle;\n",
       "    }\n",
       "\n",
       "    .dataframe tbody tr th {\n",
       "        vertical-align: top;\n",
       "    }\n",
       "\n",
       "    .dataframe thead th {\n",
       "        text-align: right;\n",
       "    }\n",
       "</style>\n",
       "<table border=\"1\" class=\"dataframe\">\n",
       "  <thead>\n",
       "    <tr style=\"text-align: right;\">\n",
       "      <th></th>\n",
       "      <th>0</th>\n",
       "      <th>1</th>\n",
       "      <th>2</th>\n",
       "      <th>3</th>\n",
       "      <th>4</th>\n",
       "      <th>5</th>\n",
       "      <th>6</th>\n",
       "      <th>7</th>\n",
       "      <th>8</th>\n",
       "      <th>9</th>\n",
       "      <th>...</th>\n",
       "      <th>490</th>\n",
       "      <th>491</th>\n",
       "      <th>492</th>\n",
       "      <th>493</th>\n",
       "      <th>494</th>\n",
       "      <th>495</th>\n",
       "      <th>496</th>\n",
       "      <th>497</th>\n",
       "      <th>498</th>\n",
       "      <th>499</th>\n",
       "    </tr>\n",
       "  </thead>\n",
       "  <tbody>\n",
       "    <tr>\n",
       "      <th>0</th>\n",
       "      <td>1.000000</td>\n",
       "      <td>1.000000</td>\n",
       "      <td>1.000000</td>\n",
       "      <td>1.000000</td>\n",
       "      <td>1.000000</td>\n",
       "      <td>1.000000</td>\n",
       "      <td>1.000000</td>\n",
       "      <td>1.000000</td>\n",
       "      <td>1.000000</td>\n",
       "      <td>1.000000</td>\n",
       "      <td>...</td>\n",
       "      <td>1.000000</td>\n",
       "      <td>1.000000</td>\n",
       "      <td>1.000000</td>\n",
       "      <td>1.000000</td>\n",
       "      <td>1.000000</td>\n",
       "      <td>1.000000</td>\n",
       "      <td>1.000000</td>\n",
       "      <td>1.000000</td>\n",
       "      <td>1.000000</td>\n",
       "      <td>1.000000</td>\n",
       "    </tr>\n",
       "    <tr>\n",
       "      <th>1</th>\n",
       "      <td>0.985703</td>\n",
       "      <td>0.997422</td>\n",
       "      <td>1.004262</td>\n",
       "      <td>1.006854</td>\n",
       "      <td>1.005436</td>\n",
       "      <td>0.995004</td>\n",
       "      <td>0.996331</td>\n",
       "      <td>0.998326</td>\n",
       "      <td>0.994524</td>\n",
       "      <td>1.012099</td>\n",
       "      <td>...</td>\n",
       "      <td>1.012496</td>\n",
       "      <td>1.004092</td>\n",
       "      <td>0.989139</td>\n",
       "      <td>1.004136</td>\n",
       "      <td>0.989449</td>\n",
       "      <td>0.998124</td>\n",
       "      <td>0.988020</td>\n",
       "      <td>1.004974</td>\n",
       "      <td>1.001088</td>\n",
       "      <td>1.002250</td>\n",
       "    </tr>\n",
       "    <tr>\n",
       "      <th>2</th>\n",
       "      <td>0.996596</td>\n",
       "      <td>0.999699</td>\n",
       "      <td>0.991277</td>\n",
       "      <td>0.999292</td>\n",
       "      <td>1.022223</td>\n",
       "      <td>0.999275</td>\n",
       "      <td>0.998523</td>\n",
       "      <td>0.978089</td>\n",
       "      <td>0.994542</td>\n",
       "      <td>1.009409</td>\n",
       "      <td>...</td>\n",
       "      <td>0.996875</td>\n",
       "      <td>1.007063</td>\n",
       "      <td>0.997840</td>\n",
       "      <td>1.020193</td>\n",
       "      <td>0.987371</td>\n",
       "      <td>0.994481</td>\n",
       "      <td>0.990985</td>\n",
       "      <td>1.002850</td>\n",
       "      <td>0.999676</td>\n",
       "      <td>1.018658</td>\n",
       "    </tr>\n",
       "    <tr>\n",
       "      <th>3</th>\n",
       "      <td>1.011423</td>\n",
       "      <td>0.996281</td>\n",
       "      <td>0.997332</td>\n",
       "      <td>1.008230</td>\n",
       "      <td>1.023299</td>\n",
       "      <td>1.019514</td>\n",
       "      <td>0.990945</td>\n",
       "      <td>0.977293</td>\n",
       "      <td>0.994888</td>\n",
       "      <td>1.014345</td>\n",
       "      <td>...</td>\n",
       "      <td>1.010242</td>\n",
       "      <td>0.988124</td>\n",
       "      <td>0.984634</td>\n",
       "      <td>1.021029</td>\n",
       "      <td>0.989836</td>\n",
       "      <td>1.008803</td>\n",
       "      <td>0.984469</td>\n",
       "      <td>0.992323</td>\n",
       "      <td>0.983727</td>\n",
       "      <td>1.025341</td>\n",
       "    </tr>\n",
       "    <tr>\n",
       "      <th>4</th>\n",
       "      <td>1.006020</td>\n",
       "      <td>0.986226</td>\n",
       "      <td>1.013210</td>\n",
       "      <td>1.008491</td>\n",
       "      <td>1.011680</td>\n",
       "      <td>1.041170</td>\n",
       "      <td>0.982869</td>\n",
       "      <td>0.978751</td>\n",
       "      <td>0.999004</td>\n",
       "      <td>1.015669</td>\n",
       "      <td>...</td>\n",
       "      <td>1.012280</td>\n",
       "      <td>0.978609</td>\n",
       "      <td>0.986352</td>\n",
       "      <td>1.031758</td>\n",
       "      <td>0.998532</td>\n",
       "      <td>1.006278</td>\n",
       "      <td>0.977452</td>\n",
       "      <td>0.998214</td>\n",
       "      <td>0.984511</td>\n",
       "      <td>1.022396</td>\n",
       "    </tr>\n",
       "    <tr>\n",
       "      <th>...</th>\n",
       "      <td>...</td>\n",
       "      <td>...</td>\n",
       "      <td>...</td>\n",
       "      <td>...</td>\n",
       "      <td>...</td>\n",
       "      <td>...</td>\n",
       "      <td>...</td>\n",
       "      <td>...</td>\n",
       "      <td>...</td>\n",
       "      <td>...</td>\n",
       "      <td>...</td>\n",
       "      <td>...</td>\n",
       "      <td>...</td>\n",
       "      <td>...</td>\n",
       "      <td>...</td>\n",
       "      <td>...</td>\n",
       "      <td>...</td>\n",
       "      <td>...</td>\n",
       "      <td>...</td>\n",
       "      <td>...</td>\n",
       "      <td>...</td>\n",
       "    </tr>\n",
       "    <tr>\n",
       "      <th>7556</th>\n",
       "      <td>7.491191</td>\n",
       "      <td>8.326919</td>\n",
       "      <td>2.689095</td>\n",
       "      <td>4.872924</td>\n",
       "      <td>3.546495</td>\n",
       "      <td>12.810859</td>\n",
       "      <td>15.388144</td>\n",
       "      <td>3.595288</td>\n",
       "      <td>17.205947</td>\n",
       "      <td>7.861489</td>\n",
       "      <td>...</td>\n",
       "      <td>21.244141</td>\n",
       "      <td>6.787563</td>\n",
       "      <td>3.404100</td>\n",
       "      <td>1.709211</td>\n",
       "      <td>9.360697</td>\n",
       "      <td>1.806708</td>\n",
       "      <td>7.534282</td>\n",
       "      <td>7.491934</td>\n",
       "      <td>3.493340</td>\n",
       "      <td>7.484442</td>\n",
       "    </tr>\n",
       "    <tr>\n",
       "      <th>7557</th>\n",
       "      <td>7.423332</td>\n",
       "      <td>8.300479</td>\n",
       "      <td>2.669307</td>\n",
       "      <td>4.894507</td>\n",
       "      <td>3.577650</td>\n",
       "      <td>12.794084</td>\n",
       "      <td>15.458178</td>\n",
       "      <td>3.582373</td>\n",
       "      <td>17.093318</td>\n",
       "      <td>7.888932</td>\n",
       "      <td>...</td>\n",
       "      <td>21.320038</td>\n",
       "      <td>6.935271</td>\n",
       "      <td>3.377876</td>\n",
       "      <td>1.714716</td>\n",
       "      <td>9.200323</td>\n",
       "      <td>1.798050</td>\n",
       "      <td>7.594319</td>\n",
       "      <td>7.592221</td>\n",
       "      <td>3.548069</td>\n",
       "      <td>7.434582</td>\n",
       "    </tr>\n",
       "    <tr>\n",
       "      <th>7558</th>\n",
       "      <td>7.369651</td>\n",
       "      <td>8.364879</td>\n",
       "      <td>2.667289</td>\n",
       "      <td>4.943944</td>\n",
       "      <td>3.542740</td>\n",
       "      <td>12.900747</td>\n",
       "      <td>15.648613</td>\n",
       "      <td>3.575037</td>\n",
       "      <td>16.950840</td>\n",
       "      <td>7.789069</td>\n",
       "      <td>...</td>\n",
       "      <td>21.466891</td>\n",
       "      <td>6.975309</td>\n",
       "      <td>3.351380</td>\n",
       "      <td>1.690234</td>\n",
       "      <td>9.250185</td>\n",
       "      <td>1.780329</td>\n",
       "      <td>7.619372</td>\n",
       "      <td>7.611794</td>\n",
       "      <td>3.543642</td>\n",
       "      <td>7.321138</td>\n",
       "    </tr>\n",
       "    <tr>\n",
       "      <th>7559</th>\n",
       "      <td>7.378871</td>\n",
       "      <td>8.400569</td>\n",
       "      <td>2.665434</td>\n",
       "      <td>5.007574</td>\n",
       "      <td>3.593442</td>\n",
       "      <td>12.737441</td>\n",
       "      <td>15.833120</td>\n",
       "      <td>3.571566</td>\n",
       "      <td>16.845735</td>\n",
       "      <td>7.804082</td>\n",
       "      <td>...</td>\n",
       "      <td>21.285003</td>\n",
       "      <td>6.952312</td>\n",
       "      <td>3.379813</td>\n",
       "      <td>1.684579</td>\n",
       "      <td>9.131152</td>\n",
       "      <td>1.783905</td>\n",
       "      <td>7.564775</td>\n",
       "      <td>7.605396</td>\n",
       "      <td>3.489203</td>\n",
       "      <td>7.426471</td>\n",
       "    </tr>\n",
       "    <tr>\n",
       "      <th>7560</th>\n",
       "      <td>7.374786</td>\n",
       "      <td>8.351962</td>\n",
       "      <td>2.645478</td>\n",
       "      <td>4.984098</td>\n",
       "      <td>3.591066</td>\n",
       "      <td>12.909887</td>\n",
       "      <td>15.805482</td>\n",
       "      <td>3.584747</td>\n",
       "      <td>17.016664</td>\n",
       "      <td>7.734174</td>\n",
       "      <td>...</td>\n",
       "      <td>21.326398</td>\n",
       "      <td>6.981085</td>\n",
       "      <td>3.406075</td>\n",
       "      <td>1.684389</td>\n",
       "      <td>9.047071</td>\n",
       "      <td>1.808314</td>\n",
       "      <td>7.607974</td>\n",
       "      <td>7.530508</td>\n",
       "      <td>3.524264</td>\n",
       "      <td>7.441043</td>\n",
       "    </tr>\n",
       "  </tbody>\n",
       "</table>\n",
       "<p>7561 rows × 500 columns</p>\n",
       "</div>"
      ],
      "text/plain": [
       "           0         1         2         3         4          5          6    \\\n",
       "0     1.000000  1.000000  1.000000  1.000000  1.000000   1.000000   1.000000   \n",
       "1     0.985703  0.997422  1.004262  1.006854  1.005436   0.995004   0.996331   \n",
       "2     0.996596  0.999699  0.991277  0.999292  1.022223   0.999275   0.998523   \n",
       "3     1.011423  0.996281  0.997332  1.008230  1.023299   1.019514   0.990945   \n",
       "4     1.006020  0.986226  1.013210  1.008491  1.011680   1.041170   0.982869   \n",
       "...        ...       ...       ...       ...       ...        ...        ...   \n",
       "7556  7.491191  8.326919  2.689095  4.872924  3.546495  12.810859  15.388144   \n",
       "7557  7.423332  8.300479  2.669307  4.894507  3.577650  12.794084  15.458178   \n",
       "7558  7.369651  8.364879  2.667289  4.943944  3.542740  12.900747  15.648613   \n",
       "7559  7.378871  8.400569  2.665434  5.007574  3.593442  12.737441  15.833120   \n",
       "7560  7.374786  8.351962  2.645478  4.984098  3.591066  12.909887  15.805482   \n",
       "\n",
       "           7          8         9    ...        490       491       492  \\\n",
       "0     1.000000   1.000000  1.000000  ...   1.000000  1.000000  1.000000   \n",
       "1     0.998326   0.994524  1.012099  ...   1.012496  1.004092  0.989139   \n",
       "2     0.978089   0.994542  1.009409  ...   0.996875  1.007063  0.997840   \n",
       "3     0.977293   0.994888  1.014345  ...   1.010242  0.988124  0.984634   \n",
       "4     0.978751   0.999004  1.015669  ...   1.012280  0.978609  0.986352   \n",
       "...        ...        ...       ...  ...        ...       ...       ...   \n",
       "7556  3.595288  17.205947  7.861489  ...  21.244141  6.787563  3.404100   \n",
       "7557  3.582373  17.093318  7.888932  ...  21.320038  6.935271  3.377876   \n",
       "7558  3.575037  16.950840  7.789069  ...  21.466891  6.975309  3.351380   \n",
       "7559  3.571566  16.845735  7.804082  ...  21.285003  6.952312  3.379813   \n",
       "7560  3.584747  17.016664  7.734174  ...  21.326398  6.981085  3.406075   \n",
       "\n",
       "           493       494       495       496       497       498       499  \n",
       "0     1.000000  1.000000  1.000000  1.000000  1.000000  1.000000  1.000000  \n",
       "1     1.004136  0.989449  0.998124  0.988020  1.004974  1.001088  1.002250  \n",
       "2     1.020193  0.987371  0.994481  0.990985  1.002850  0.999676  1.018658  \n",
       "3     1.021029  0.989836  1.008803  0.984469  0.992323  0.983727  1.025341  \n",
       "4     1.031758  0.998532  1.006278  0.977452  0.998214  0.984511  1.022396  \n",
       "...        ...       ...       ...       ...       ...       ...       ...  \n",
       "7556  1.709211  9.360697  1.806708  7.534282  7.491934  3.493340  7.484442  \n",
       "7557  1.714716  9.200323  1.798050  7.594319  7.592221  3.548069  7.434582  \n",
       "7558  1.690234  9.250185  1.780329  7.619372  7.611794  3.543642  7.321138  \n",
       "7559  1.684579  9.131152  1.783905  7.564775  7.605396  3.489203  7.426471  \n",
       "7560  1.684389  9.047071  1.808314  7.607974  7.530508  3.524264  7.441043  \n",
       "\n",
       "[7561 rows x 500 columns]"
      ]
     },
     "execution_count": 19,
     "metadata": {},
     "output_type": "execute_result"
    }
   ],
   "source": [
    "# Running a Monte Carlo simulation to forecast 30 years cumulative returns\n",
    "MC_stock_data.calc_cumulative_return()"
   ]
  },
  {
   "cell_type": "code",
   "execution_count": 20,
   "metadata": {
    "tags": []
   },
   "outputs": [
    {
     "data": {
      "image/png": "[encoded data removed]",
      "text/plain": [
       "<Figure size 640x480 with 1 Axes>"
      ]
     },
     "metadata": {},
     "output_type": "display_data"
    }
   ],
   "source": [
    "# Plot simulation outcomes\n",
    "line_plot = MC_stock_data.plot_simulation()"
   ]
  },
  {
   "cell_type": "code",
   "execution_count": 21,
   "metadata": {
    "tags": []
   },
   "outputs": [
    {
     "data": {
      "image/png": "[encoded data removed]",
      "text/plain": [
       "<Figure size 640x480 with 1 Axes>"
      ]
     },
     "metadata": {},
     "output_type": "display_data"
    }
   ],
   "source": [
    "# Plot probability distribution and confidence intervals\n",
    "dist_plot = MC_stock_data.plot_distribution()"
   ]
  },
  {
   "cell_type": "markdown",
   "metadata": {},
   "source": [
    "### Retirement Analysis"
   ]
  },
  {
   "cell_type": "code",
   "execution_count": 26,
   "metadata": {
    "tags": []
   },
   "outputs": [
    {
     "ename": "AttributeError",
     "evalue": "'Series' object has no attribute 'append'",
     "output_type": "error",
     "traceback": [
      "\u001b[0;31m---------------------------------------------------------------------------\u001b[0m",
      "\u001b[0;31mAttributeError\u001b[0m                            Traceback (most recent call last)",
      "\u001b[0;32m/var/folders/gt/vqvm8l_15wz1l9x3fy5f9znh0000gn/T/ipykernel_57414/3535860884.py\u001b[0m in \u001b[0;36m?\u001b[0;34m()\u001b[0m\n\u001b[1;32m      1\u001b[0m \u001b[0;31m# Fetch summary statistics from the Monte Carlo simulation results\u001b[0m\u001b[0;34m\u001b[0m\u001b[0;34m\u001b[0m\u001b[0m\n\u001b[0;32m----> 2\u001b[0;31m \u001b[0meven_tbl\u001b[0m \u001b[0;34m=\u001b[0m \u001b[0mMC_stock_data\u001b[0m\u001b[0;34m.\u001b[0m\u001b[0msummarize_cumulative_return\u001b[0m\u001b[0;34m(\u001b[0m\u001b[0;34m)\u001b[0m\u001b[0;34m\u001b[0m\u001b[0;34m\u001b[0m\u001b[0m\n\u001b[0m\u001b[1;32m      3\u001b[0m \u001b[0;34m\u001b[0m\u001b[0m\n\u001b[1;32m      4\u001b[0m \u001b[0;31m# Print summary statistics\u001b[0m\u001b[0;34m\u001b[0m\u001b[0;34m\u001b[0m\u001b[0m\n\u001b[1;32m      5\u001b[0m \u001b[0mprint\u001b[0m\u001b[0;34m(\u001b[0m\u001b[0meven_tbl\u001b[0m\u001b[0;34m)\u001b[0m\u001b[0;34m\u001b[0m\u001b[0;34m\u001b[0m\u001b[0m\n",
      "\u001b[0;32m~/Desktop/FinTech/Instructions/Starter_Code/MCForecastTools.py\u001b[0m in \u001b[0;36m?\u001b[0;34m(self)\u001b[0m\n\u001b[1;32m    168\u001b[0m \u001b[0;34m\u001b[0m\u001b[0m\n\u001b[1;32m    169\u001b[0m         \u001b[0mmetrics\u001b[0m \u001b[0;34m=\u001b[0m \u001b[0mself\u001b[0m\u001b[0;34m.\u001b[0m\u001b[0msimulated_return\u001b[0m\u001b[0;34m.\u001b[0m\u001b[0miloc\u001b[0m\u001b[0;34m[\u001b[0m\u001b[0;34m-\u001b[0m\u001b[0;36m1\u001b[0m\u001b[0;34m]\u001b[0m\u001b[0;34m.\u001b[0m\u001b[0mdescribe\u001b[0m\u001b[0;34m(\u001b[0m\u001b[0;34m)\u001b[0m\u001b[0;34m\u001b[0m\u001b[0;34m\u001b[0m\u001b[0m\n\u001b[1;32m    170\u001b[0m         \u001b[0mci_series\u001b[0m \u001b[0;34m=\u001b[0m \u001b[0mself\u001b[0m\u001b[0;34m.\u001b[0m\u001b[0mconfidence_interval\u001b[0m\u001b[0;34m\u001b[0m\u001b[0;34m\u001b[0m\u001b[0m\n\u001b[1;32m    171\u001b[0m         \u001b[0mci_series\u001b[0m\u001b[0;34m.\u001b[0m\u001b[0mindex\u001b[0m \u001b[0;34m=\u001b[0m \u001b[0;34m[\u001b[0m\u001b[0;34m\"95% CI Lower\"\u001b[0m\u001b[0;34m,\u001b[0m\u001b[0;34m\"95% CI Upper\"\u001b[0m\u001b[0;34m]\u001b[0m\u001b[0;34m\u001b[0m\u001b[0;34m\u001b[0m\u001b[0m\n\u001b[0;32m--> 172\u001b[0;31m         \u001b[0;32mreturn\u001b[0m \u001b[0mpd\u001b[0m\u001b[0;34m.\u001b[0m\u001b[0mconcat\u001b[0m\u001b[0;34m(\u001b[0m\u001b[0;34m[\u001b[0m\u001b[0mmetrics\u001b[0m\u001b[0;34m,\u001b[0m\u001b[0mci_series\u001b[0m\u001b[0;34m]\u001b[0m\u001b[0;34m)\u001b[0m\u001b[0;34m\u001b[0m\u001b[0;34m\u001b[0m\u001b[0m\n\u001b[0m",
      "\u001b[0;32m~/anaconda3/envs/dev/lib/python3.10/site-packages/pandas/core/generic.py\u001b[0m in \u001b[0;36m?\u001b[0;34m(self, name)\u001b[0m\n\u001b[1;32m   5985\u001b[0m             \u001b[0;32mand\u001b[0m \u001b[0mname\u001b[0m \u001b[0;32mnot\u001b[0m \u001b[0;32min\u001b[0m \u001b[0mself\u001b[0m\u001b[0;34m.\u001b[0m\u001b[0m_accessors\u001b[0m\u001b[0;34m\u001b[0m\u001b[0;34m\u001b[0m\u001b[0m\n\u001b[1;32m   5986\u001b[0m             \u001b[0;32mand\u001b[0m \u001b[0mself\u001b[0m\u001b[0;34m.\u001b[0m\u001b[0m_info_axis\u001b[0m\u001b[0;34m.\u001b[0m\u001b[0m_can_hold_identifiers_and_holds_name\u001b[0m\u001b[0;34m(\u001b[0m\u001b[0mname\u001b[0m\u001b[0;34m)\u001b[0m\u001b[0;34m\u001b[0m\u001b[0;34m\u001b[0m\u001b[0m\n\u001b[1;32m   5987\u001b[0m         ):\n\u001b[1;32m   5988\u001b[0m             \u001b[0;32mreturn\u001b[0m \u001b[0mself\u001b[0m\u001b[0;34m[\u001b[0m\u001b[0mname\u001b[0m\u001b[0;34m]\u001b[0m\u001b[0;34m\u001b[0m\u001b[0;34m\u001b[0m\u001b[0m\n\u001b[0;32m-> 5989\u001b[0;31m         \u001b[0;32mreturn\u001b[0m \u001b[0mobject\u001b[0m\u001b[0;34m.\u001b[0m\u001b[0m__getattribute__\u001b[0m\u001b[0;34m(\u001b[0m\u001b[0mself\u001b[0m\u001b[0;34m,\u001b[0m \u001b[0mname\u001b[0m\u001b[0;34m)\u001b[0m\u001b[0;34m\u001b[0m\u001b[0;34m\u001b[0m\u001b[0m\n\u001b[0m",
      "\u001b[0;31mAttributeError\u001b[0m: 'Series' object has no attribute 'append'"
     ]
    }
   ],
   "source": [
    "# Fetch summary statistics from the Monte Carlo simulation results\n",
    "even_tbl = MC_stock_data.summarize_cumulative_return()\n",
    "\n",
    "# Print summary statistics\n",
    "print(even_tbl)"
   ]
  },
  {
   "cell_type": "markdown",
   "metadata": {},
   "source": [
    "### Calculate the expected portfolio return at the `95%` lower and upper confidence intervals based on a `$20,000` initial investment."
   ]
  },
  {
   "cell_type": "code",
   "execution_count": 27,
   "metadata": {},
   "outputs": [
    {
     "ename": "NameError",
     "evalue": "name 'even_tbl' is not defined",
     "output_type": "error",
     "traceback": [
      "\u001b[0;31m---------------------------------------------------------------------------\u001b[0m",
      "\u001b[0;31mNameError\u001b[0m                                 Traceback (most recent call last)",
      "Cell \u001b[0;32mIn[27], line 5\u001b[0m\n\u001b[1;32m      2\u001b[0m initial_investment \u001b[38;5;241m=\u001b[39m \u001b[38;5;241m20000\u001b[39m\n\u001b[1;32m      4\u001b[0m \u001b[38;5;66;03m# Use the lower and upper `95%` confidence intervals to calculate the range of the possible outcomes of our $20,000\u001b[39;00m\n\u001b[0;32m----> 5\u001b[0m even_ci_lower \u001b[38;5;241m=\u001b[39m \u001b[38;5;28mround\u001b[39m(\u001b[43meven_tbl\u001b[49m[\u001b[38;5;241m8\u001b[39m]\u001b[38;5;241m*\u001b[39minitial_investment,\u001b[38;5;241m2\u001b[39m)\n\u001b[1;32m      6\u001b[0m even_ci_upper \u001b[38;5;241m=\u001b[39m \u001b[38;5;28mround\u001b[39m(even_tbl[\u001b[38;5;241m9\u001b[39m]\u001b[38;5;241m*\u001b[39minitial_investment,\u001b[38;5;241m2\u001b[39m)\n\u001b[1;32m      8\u001b[0m \u001b[38;5;66;03m# Print results\u001b[39;00m\n",
      "\u001b[0;31mNameError\u001b[0m: name 'even_tbl' is not defined"
     ]
    }
   ],
   "source": [
    "# Set initial investment\n",
    "initial_investment = 20000\n",
    "\n",
    "# Use the lower and upper `95%` confidence intervals to calculate the range of the possible outcomes of our $20,000\n",
    "even_ci_lower = round(even_tbl[8]*initial_investment,2)\n",
    "even_ci_upper = round(even_tbl[9]*initial_investment,2)\n",
    "\n",
    "# Print results\n",
    "print(f\"There is a 95% chance that an initial investment of ${initial_investment} in the portfolio\"\n",
    "      f\" over the next 30 years will end within in the range of\"\n",
    "      f\" ${even_ci_lower} and ${even_ci_upper}\")"
   ]
  },
  {
   "cell_type": "markdown",
   "metadata": {},
   "source": [
    "### Calculate the expected portfolio return at the `95%` lower and upper confidence intervals based on a `50%` increase in the initial investment."
   ]
  },
  {
   "cell_type": "code",
   "execution_count": 28,
   "metadata": {},
   "outputs": [
    {
     "ename": "NameError",
     "evalue": "name 'even_tbl' is not defined",
     "output_type": "error",
     "traceback": [
      "\u001b[0;31m---------------------------------------------------------------------------\u001b[0m",
      "\u001b[0;31mNameError\u001b[0m                                 Traceback (most recent call last)",
      "Cell \u001b[0;32mIn[28], line 5\u001b[0m\n\u001b[1;32m      2\u001b[0m initial_investment \u001b[38;5;241m=\u001b[39m \u001b[38;5;241m20000\u001b[39m \u001b[38;5;241m*\u001b[39m \u001b[38;5;241m1.5\u001b[39m\n\u001b[1;32m      4\u001b[0m \u001b[38;5;66;03m# Use the lower and upper `95%` confidence intervals to calculate the range of the possible outcomes of our $30,000\u001b[39;00m\n\u001b[0;32m----> 5\u001b[0m even_ci_lower \u001b[38;5;241m=\u001b[39m \u001b[38;5;28mround\u001b[39m(\u001b[43meven_tbl\u001b[49m[\u001b[38;5;241m8\u001b[39m]\u001b[38;5;241m*\u001b[39minitial_investment,\u001b[38;5;241m2\u001b[39m)\n\u001b[1;32m      6\u001b[0m even_ci_upper \u001b[38;5;241m=\u001b[39m \u001b[38;5;28mround\u001b[39m(even_tbl[\u001b[38;5;241m9\u001b[39m]\u001b[38;5;241m*\u001b[39minitial_investment,\u001b[38;5;241m2\u001b[39m)\n\u001b[1;32m      8\u001b[0m \u001b[38;5;66;03m# Print results\u001b[39;00m\n",
      "\u001b[0;31mNameError\u001b[0m: name 'even_tbl' is not defined"
     ]
    }
   ],
   "source": [
    "# Set initial investment\n",
    "initial_investment = 20000 * 1.5\n",
    "\n",
    "# Use the lower and upper `95%` confidence intervals to calculate the range of the possible outcomes of our $30,000\n",
    "even_ci_lower = round(even_tbl[8]*initial_investment,2)\n",
    "even_ci_upper = round(even_tbl[9]*initial_investment,2)\n",
    "\n",
    "# Print results\n",
    "print(f\"There is a 95% chance that an initial investment of ${initial_investment} in the portfolio\"\n",
    "      f\" over the next 30 years will end within in the range of\"\n",
    "      f\" ${even_ci_lower} and ${even_ci_upper}\")"
   ]
  },
  {
   "cell_type": "markdown",
   "metadata": {},
   "source": [
    "## Optional Challenge - Early Retirement\n",
    "\n",
    "\n",
    "### Five Years Retirement Option"
   ]
  },
  {
   "cell_type": "code",
   "execution_count": null,
   "metadata": {},
   "outputs": [],
   "source": [
    "# Configuring a Monte Carlo simulation to forecast 5 years cumulative returns\n",
    "# YOUR CODE HERE!"
   ]
  },
  {
   "cell_type": "code",
   "execution_count": null,
   "metadata": {},
   "outputs": [],
   "source": [
    "# Running a Monte Carlo simulation to forecast 5 years cumulative returns\n",
    "# YOUR CODE HERE!"
   ]
  },
  {
   "cell_type": "code",
   "execution_count": null,
   "metadata": {},
   "outputs": [],
   "source": [
    "# Plot simulation outcomes\n",
    "# YOUR CODE HERE!"
   ]
  },
  {
   "cell_type": "code",
   "execution_count": null,
   "metadata": {},
   "outputs": [],
   "source": [
    "# Plot probability distribution and confidence intervals\n",
    "# YOUR CODE HERE!"
   ]
  },
  {
   "cell_type": "code",
   "execution_count": null,
   "metadata": {},
   "outputs": [],
   "source": [
    "# Fetch summary statistics from the Monte Carlo simulation results\n",
    "# YOUR CODE HERE!\n",
    "\n",
    "# Print summary statistics\n",
    "# YOUR CODE HERE!"
   ]
  },
  {
   "cell_type": "code",
   "execution_count": null,
   "metadata": {},
   "outputs": [],
   "source": [
    "# Set initial investment\n",
    "# YOUR CODE HERE!\n",
    "\n",
    "# Use the lower and upper `95%` confidence intervals to calculate the range of the possible outcomes of our $60,000\n",
    "# YOUR CODE HERE!\n",
    "\n",
    "# Print results\n",
    "print(f\"There is a 95% chance that an initial investment of ${initial_investment} in the portfolio\"\n",
    "      f\" over the next 5 years will end within in the range of\"\n",
    "      f\" ${ci_lower_five} and ${ci_upper_five}\")"
   ]
  },
  {
   "cell_type": "markdown",
   "metadata": {},
   "source": [
    "### Ten Years Retirement Option"
   ]
  },
  {
   "cell_type": "code",
   "execution_count": null,
   "metadata": {},
   "outputs": [],
   "source": [
    "# Configuring a Monte Carlo simulation to forecast 10 years cumulative returns\n",
    "# YOUR CODE HERE!"
   ]
  },
  {
   "cell_type": "code",
   "execution_count": null,
   "metadata": {},
   "outputs": [],
   "source": [
    "# Running a Monte Carlo simulation to forecast 10 years cumulative returns\n",
    "# YOUR CODE HERE!"
   ]
  },
  {
   "cell_type": "code",
   "execution_count": null,
   "metadata": {},
   "outputs": [],
   "source": [
    "# Plot simulation outcomes\n",
    "# YOUR CODE HERE!"
   ]
  },
  {
   "cell_type": "code",
   "execution_count": null,
   "metadata": {},
   "outputs": [],
   "source": [
    "# Plot probability distribution and confidence intervals\n",
    "# YOUR CODE HERE!"
   ]
  },
  {
   "cell_type": "code",
   "execution_count": null,
   "metadata": {},
   "outputs": [],
   "source": [
    "# Fetch summary statistics from the Monte Carlo simulation results\n",
    "# YOUR CODE HERE!\n",
    "\n",
    "# Print summary statistics\n",
    "# YOUR CODE HERE!"
   ]
  },
  {
   "cell_type": "code",
   "execution_count": null,
   "metadata": {},
   "outputs": [],
   "source": [
    "# Set initial investment\n",
    "# YOUR CODE HERE!\n",
    "\n",
    "# Use the lower and upper `95%` confidence intervals to calculate the range of the possible outcomes of our $60,000\n",
    "# YOUR CODE HERE!\n",
    "\n",
    "# Print results\n",
    "print(f\"There is a 95% chance that an initial investment of ${initial_investment} in the portfolio\"\n",
    "      f\" over the next 10 years will end within in the range of\"\n",
    "      f\" ${ci_lower_ten} and ${ci_upper_ten}\")"
   ]
  },
  {
   "cell_type": "code",
   "execution_count": null,
   "metadata": {},
   "outputs": [],
   "source": []
  }
 ],
 "metadata": {
  "kernelspec": {
   "display_name": "Python 3 (ipykernel)",
   "language": "python",
   "name": "python3"
  },
  "language_info": {
   "codemirror_mode": {
    "name": "ipython",
    "version": 3
   },
   "file_extension": ".py",
   "mimetype": "text/x-python",
   "name": "python",
   "nbconvert_exporter": "python",
   "pygments_lexer": "ipython3",
   "version": "3.10.13"
  },
  "nteract": {
   "version": "0.28.0"
  }
 },
 "nbformat": 4,
 "nbformat_minor": 4
}
